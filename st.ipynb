{
 "cells": [
  {
   "cell_type": "markdown",
   "metadata": {},
   "source": [
    "# 説明\n",
    "\n",
    "- _start_dateと_end_dateで指定した期間のレースを取得します。\n",
    "- 次に、レース出走馬のプロフィール、過去戦績、血統情報を取得します。\n",
    "- 最後に、レースに含まれる騎手と調教師のプロフィールを取得します。\n",
    "\n",
    "GUIで処理を行いたいときは`python st.py`を実行してください。"
   ]
  },
  {
   "cell_type": "code",
   "execution_count": null,
   "metadata": {},
   "outputs": [],
   "source": [
    "%reload_ext autoreload\n",
    "%autoreload 2\n",
    "import app\n",
    "import datetime\n",
    "from tqdm import tqdm\n",
    "import pickle"
   ]
  },
  {
   "cell_type": "code",
   "execution_count": 2,
   "metadata": {},
   "outputs": [],
   "source": [
    "# complete date range\n",
    "_start_date = datetime.date(2020, 1, 1)\n",
    "_end_date = datetime.date(2020, 12, 31)"
   ]
  },
  {
   "cell_type": "code",
   "execution_count": 3,
   "metadata": {},
   "outputs": [],
   "source": [
    "def save_cache(data, name):\n",
    "    with open(f'cache/{name}.pkl', 'wb') as f:\n",
    "        pickle.dump(data, f)\n",
    "\n",
    "def load_cache(name):\n",
    "    with open(f'cache/{name}.pkl', 'rb') as f:\n",
    "        return pickle.load(f)"
   ]
  },
  {
   "cell_type": "code",
   "execution_count": 4,
   "metadata": {},
   "outputs": [],
   "source": [
    "def cache_data(func):\n",
    "    cache = {}\n",
    "    def wrapper(*args, **kwargs):\n",
    "        if args not in cache:\n",
    "            cache[args] = func(*args, **kwargs)\n",
    "        return cache[args]\n",
    "    return wrapper"
   ]
  },
  {
   "cell_type": "markdown",
   "metadata": {},
   "source": [
    "# Get all 1R ids"
   ]
  },
  {
   "cell_type": "code",
   "execution_count": 5,
   "metadata": {},
   "outputs": [],
   "source": [
    "@cache_data\n",
    "def get_race_ids(start_date, end_date):\n",
    "    return app.get_race_ids(start_date, end_date)"
   ]
  },
  {
   "cell_type": "code",
   "execution_count": 6,
   "metadata": {},
   "outputs": [],
   "source": [
    "race_ids = get_race_ids(_start_date, _end_date)"
   ]
  },
  {
   "cell_type": "markdown",
   "metadata": {},
   "source": [
    "# Get all race ids"
   ]
  },
  {
   "cell_type": "code",
   "execution_count": 7,
   "metadata": {},
   "outputs": [],
   "source": [
    "cached_race_id_list = {}\n",
    "def cache_id_list(cache_id_list: dict, race_ids: list):\n",
    "    \"\"\"\n",
    "    引数がdriverとrace_idの関数に対して、race_idをキャッシュする\n",
    "    \"\"\"\n",
    "    driver = app.get_driver()\n",
    "    def wrapper(driver, race_id):\n",
    "        if race_id not in cache_id_list:\n",
    "            local_race_ids, driver = app.get_local_race_ids(driver, race_id)\n",
    "            cache_id_list[race_id] = local_race_ids\n",
    "        return driver, cache_id_list[race_id]\n",
    "    race_id_list = []\n",
    "    for race_id in tqdm(race_ids):\n",
    "        driver, local_race_ids = wrapper(driver, race_id)\n",
    "        race_id_list.extend(local_race_ids)\n",
    "    driver.close()\n",
    "    driver.quit()\n",
    "    return race_id_list"
   ]
  },
  {
   "cell_type": "code",
   "execution_count": 8,
   "metadata": {},
   "outputs": [],
   "source": [
    "cached_race_id_list = load_cache(\"cached_race_id_list\")"
   ]
  },
  {
   "cell_type": "code",
   "execution_count": null,
   "metadata": {},
   "outputs": [],
   "source": [
    "race_id_list = cache_id_list(cached_race_id_list, race_ids)"
   ]
  },
  {
   "cell_type": "code",
   "execution_count": 10,
   "metadata": {},
   "outputs": [],
   "source": [
    "save_cache(cached_race_id_list, \"cached_race_id_list\")"
   ]
  },
  {
   "cell_type": "markdown",
   "metadata": {},
   "source": [
    "# Update database\n",
    "### pre race & shutuba"
   ]
  },
  {
   "cell_type": "code",
   "execution_count": 11,
   "metadata": {},
   "outputs": [],
   "source": [
    "cached_exists_race_id_list = []\n",
    "def cache_upsert_race(cached_data: list, race_id_list: list):\n",
    "    driver = app.get_driver()\n",
    "    mongo = app.get_mongo_client()\n",
    "    for race_id in tqdm(race_id_list):\n",
    "        if race_id in cached_data:\n",
    "            continue\n",
    "        driver = app.upsert_pre_race_shutuba(driver, mongo, race_id, force=True)\n",
    "        cached_exists_race_id_list.append(race_id)\n",
    "    driver.close()\n",
    "    driver.quit()\n",
    "    mongo.close()"
   ]
  },
  {
   "cell_type": "code",
   "execution_count": 12,
   "metadata": {},
   "outputs": [],
   "source": [
    "cached_exists_race_id_list = load_cache(\"cached_exists_race_id_list\")"
   ]
  },
  {
   "cell_type": "code",
   "execution_count": null,
   "metadata": {},
   "outputs": [],
   "source": [
    "# TODO: あとで補完する\n",
    "\n",
    "# 202148051910 は調教師IDが足りないのでスキップした\n",
    "# https://nar.netkeiba.com/race/shutuba.html?race_id=202148051910\n",
    "# https://db.netkeiba.com/race/202148051910/\n",
    "\n",
    "# 202148040711 は調教師IDが足りないのでスキップした\n",
    "# https://nar.netkeiba.com/race/shutuba.html?race_id=202148040711\n",
    "\n",
    "# 202042102210 は調教師IDが足りないのでスキップした\n",
    "# https://nar.netkeiba.com/race/shutuba.html?race_id=202042102210\n",
    "\n",
    "# 202035092809 は調教師IDが足りないのでスキップした\n",
    "# https://nar.netkeiba.com/race/shutuba.html?race_id=202035092809\n",
    "\n",
    "# 202050031808 は調教師IDが足りないのでスキップした\n",
    "# https://nar.netkeiba.com/race/shutuba.html?race_id=202050031808"
   ]
  },
  {
   "cell_type": "code",
   "execution_count": 20,
   "metadata": {},
   "outputs": [
    {
     "name": "stderr",
     "output_type": "stream",
     "text": [
      "100%|██████████| 2266/2266 [1:22:14<00:00,  2.18s/it]\n"
     ]
    }
   ],
   "source": [
    "# update pre race & shutuba\n",
    "cache_upsert_race(cached_exists_race_id_list, race_id_list[3162:][1458:][6460:])"
   ]
  },
  {
   "cell_type": "code",
   "execution_count": 21,
   "metadata": {},
   "outputs": [],
   "source": [
    "save_cache(cached_exists_race_id_list, \"cached_exists_race_id_list\")"
   ]
  },
  {
   "cell_type": "markdown",
   "metadata": {},
   "source": [
    "### get horse_id_list"
   ]
  },
  {
   "cell_type": "code",
   "execution_count": 16,
   "metadata": {},
   "outputs": [],
   "source": [
    "cached_race_id_for_horse_id_list = {}\n",
    "def cache_horse_id_list_by_race_id(race_id_list: list, cached_data: dict = cached_race_id_for_horse_id_list):\n",
    "    def wrapper(race_id: str, cached_data: dict):\n",
    "        if race_id in cached_data:\n",
    "            return cached_data[race_id]\n",
    "        cached_data[race_id] = app.find_horse_ids(race_id)\n",
    "        return cached_data[race_id]\n",
    "    id_list = []\n",
    "    for race_id in tqdm(race_id_list):\n",
    "        ids = wrapper(race_id, cached_data)\n",
    "        id_list.extend(ids)\n",
    "    return list(set(id_list))"
   ]
  },
  {
   "cell_type": "code",
   "execution_count": 17,
   "metadata": {},
   "outputs": [],
   "source": [
    "cached_race_id_for_horse_id_list = load_cache(\"cached_race_id_for_horse_id_list\")"
   ]
  },
  {
   "cell_type": "code",
   "execution_count": 18,
   "metadata": {},
   "outputs": [
    {
     "name": "stderr",
     "output_type": "stream",
     "text": [
      "100%|██████████| 12842/12842 [05:33<00:00, 38.50it/s]\n"
     ]
    }
   ],
   "source": [
    "# race_id -> horse_id\n",
    "horse_id_list = cache_horse_id_list_by_race_id(race_id_list)\n",
    "save_cache(cached_race_id_for_horse_id_list, \"cached_race_id_for_horse_id_list\")"
   ]
  },
  {
   "cell_type": "code",
   "execution_count": 3,
   "metadata": {},
   "outputs": [],
   "source": [
    "# all horse_id\n",
    "from modules.database import FindData\n",
    "mongo = app.get_mongo_client()\n",
    "horse_id_list = FindData(mongo).get_all_horse_ids()"
   ]
  },
  {
   "cell_type": "code",
   "execution_count": 14,
   "metadata": {},
   "outputs": [],
   "source": [
    "# update horse data\n",
    "ttl_horse_id_dict = {}\n",
    "def cache_ttl_horse_id_dict(horse_id_list: list, get_type: list, cached_data: dict = ttl_horse_id_dict, ttl: datetime.timedelta = datetime.timedelta(days=7)):\n",
    "    driver = app.get_driver()\n",
    "    mongo = app.get_mongo_client()\n",
    "    cache_date = datetime.datetime.now()\n",
    "    def wrapper(driver, mongo, horse_id: str, get_type: list, cached_data: dict, cache_date: datetime.datetime, ttl: datetime.timedelta):\n",
    "        if horse_id in cached_data:\n",
    "            last_cache_date = cached_data[horse_id]\n",
    "            if last_cache_date + ttl >= cache_date:\n",
    "                return driver\n",
    "        cached_data[horse_id] = cache_date\n",
    "        return app.upsert_horse_data(driver, mongo, horse_id, get_type)\n",
    "    for horse_id in tqdm(horse_id_list):\n",
    "        driver = wrapper(driver, mongo, horse_id, get_type, cached_data, cache_date, ttl)\n",
    "    if driver:\n",
    "        driver.close()\n",
    "        driver.quit()\n",
    "    mongo.close()"
   ]
  },
  {
   "cell_type": "code",
   "execution_count": 5,
   "metadata": {},
   "outputs": [],
   "source": [
    "def pop_last_dict_item(d: dict):\n",
    "    \"\"\"\n",
    "    dictの最後の要素を削除する\n",
    "    \"\"\"\n",
    "    keys = list(d.keys())\n",
    "    last_key = keys[-1]\n",
    "    del d[last_key]\n",
    "    return d"
   ]
  },
  {
   "cell_type": "code",
   "execution_count": 16,
   "metadata": {},
   "outputs": [],
   "source": [
    "ttl_horse_id_dict = load_cache(\"ttl_horse_id_dict\")"
   ]
  },
  {
   "cell_type": "code",
   "execution_count": null,
   "metadata": {},
   "outputs": [],
   "source": [
    "get_type = [\n",
    "    \"profile\",\n",
    "    # \"pedigree\",\n",
    "    \"result\"\n",
    "    ]\n",
    "ttl_horse_id_dict = pop_last_dict_item(ttl_horse_id_dict)\n",
    "cache_ttl_horse_id_dict(horse_id_list, get_type)\n",
    "save_cache(ttl_horse_id_dict, \"ttl_horse_id_dict\")"
   ]
  },
  {
   "cell_type": "code",
   "execution_count": null,
   "metadata": {},
   "outputs": [],
   "source": [
    "import app\n",
    "type = \"jockey\"\n",
    "jockey_id_list = app.find_human_ids_for_db(type)"
   ]
  },
  {
   "cell_type": "code",
   "execution_count": null,
   "metadata": {},
   "outputs": [],
   "source": [
    "# update jockey data\n",
    "driver = app.get_driver()\n",
    "mongo = app.get_mongo_client()\n",
    "for jockey_id in tqdm(jockey_id_list):\n",
    "    driver = app.upsert_human_data(driver, mongo, jockey_id, type)\n",
    "driver.close()\n",
    "driver.quit()\n",
    "mongo.close()"
   ]
  },
  {
   "cell_type": "code",
   "execution_count": null,
   "metadata": {},
   "outputs": [],
   "source": [
    "import app\n",
    "type = \"trainer\"\n",
    "jockey_id_list = app.find_human_ids_for_db(type)"
   ]
  },
  {
   "cell_type": "code",
   "execution_count": null,
   "metadata": {},
   "outputs": [],
   "source": [
    "# update trainer data\n",
    "driver = app.get_driver()\n",
    "mongo = app.get_mongo_client()\n",
    "for jockey_id in tqdm(jockey_id_list):\n",
    "    driver = app.upsert_human_data(driver, mongo, jockey_id, type)\n",
    "driver.close()\n",
    "driver.quit()\n",
    "mongo.close()"
   ]
  },
  {
   "cell_type": "markdown",
   "metadata": {},
   "source": [
    "# Preprocess for training"
   ]
  },
  {
   "cell_type": "code",
   "execution_count": 50,
   "metadata": {},
   "outputs": [],
   "source": [
    "type = \"horse\"\n",
    "include = {\n",
    "    # \"date\": {\"start_date\": \"2010-01-01\", \"end_date\": \"2023-12-31\"},\n",
    "    # \"local\": \"名古屋\",\n",
    "    \"course\": \"ダ\",\n",
    "    # \"distance\": \"1600\",\n",
    "    # \"ground_state\": \"良\",\n",
    "}\n",
    "preprocess = app.Preprocess(type, include)"
   ]
  },
  {
   "cell_type": "code",
   "execution_count": 51,
   "metadata": {},
   "outputs": [
    {
     "name": "stdout",
     "output_type": "stream",
     "text": [
      "(402849, 21)\n"
     ]
    }
   ],
   "source": [
    "df = preprocess.formatted_result_df\n",
    "print(df.shape)"
   ]
  },
  {
   "cell_type": "code",
   "execution_count": null,
   "metadata": {},
   "outputs": [],
   "source": [
    "model = app.Model(df, type)\n",
    "model.train()\n",
    "model.save_model()"
   ]
  },
  {
   "cell_type": "code",
   "execution_count": null,
   "metadata": {},
   "outputs": [],
   "source": [
    "model.model.summary()"
   ]
  }
 ],
 "metadata": {
  "kernelspec": {
   "display_name": ".venv",
   "language": "python",
   "name": "python3"
  },
  "language_info": {
   "codemirror_mode": {
    "name": "ipython",
    "version": 3
   },
   "file_extension": ".py",
   "mimetype": "text/x-python",
   "name": "python",
   "nbconvert_exporter": "python",
   "pygments_lexer": "ipython3",
   "version": "3.9.13"
  }
 },
 "nbformat": 4,
 "nbformat_minor": 2
}
